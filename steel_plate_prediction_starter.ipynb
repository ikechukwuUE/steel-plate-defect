{
  "nbformat": 4,
  "nbformat_minor": 0,
  "metadata": {
    "colab": {
      "provenance": [],
      "authorship_tag": "ABX9TyM1Y2ZTvHZvQyYkYi9PiiX/",
      "include_colab_link": true
    },
    "kernelspec": {
      "name": "python3",
      "display_name": "Python 3"
    },
    "language_info": {
      "name": "python"
    }
  },
  "cells": [
    {
      "cell_type": "markdown",
      "metadata": {
        "id": "view-in-github",
        "colab_type": "text"
      },
      "source": [
        "<a href=\"https://colab.research.google.com/github/ikechukwuUE/steel-plate-defect/blob/master/steel_plate_prediction_starter.ipynb\" target=\"_parent\"><img src=\"https://colab.research.google.com/assets/colab-badge.svg\" alt=\"Open In Colab\"/></a>"
      ]
    },
    {
      "cell_type": "markdown",
      "source": [
        "# Enhancing Steel Plate Defect Prediction with Advanced Feature Engineering and Neural Networks\n",
        "\n",
        "## Table of Contents\n",
        "\n",
        "1. **Introduction**\n",
        "2. **Data Preparation**\n",
        "3. **Model Construction**\n",
        "    - **Traditional Machine Learning Models**\n",
        "    - **Neural Networks**\n",
        "4. **Ensemble and Tuning**\n",
        "5. **Execution**\n",
        "6. **Conclusion**\n",
        "7. **Appendices**\n"
      ],
      "metadata": {
        "id": "WR_Jhm_2rn4u"
      }
    },
    {
      "cell_type": "markdown",
      "source": [
        "## Introduction\n",
        "\n",
        "### Project Overview\n",
        "- **Objective:** Develop a sophisticated machine learning model to predict the probability of various defects on steel plates using both the competition dataset and the original Steel Plates Faults dataset from UCI.\n",
        "- **Methodology:** Focus on extensive feature engineering using Principal Component Analysis (PCA) to reduce the dimensionality of the dataset and incorporate neural networks for defect prediction.\n",
        "- **Expected Outcome:** A CSV file with predicted probabilities for each defect category for each id in the test set, evaluated using the area under the ROC curve (AUC) for each category.\n",
        "\n",
        "### Version Details\n",
        "- **Version Number:** 1.0\n",
        "- **Configuration Parameters:** Detailed in the Configuration Parameters section."
      ],
      "metadata": {
        "id": "i9YuxE1orzsy"
      }
    },
    {
      "cell_type": "markdown",
      "source": [
        "## Imports"
      ],
      "metadata": {
        "id": "jVw_J-g0sH7R"
      }
    },
    {
      "cell_type": "code",
      "execution_count": null,
      "metadata": {
        "id": "yOZ5IZmErb4b"
      },
      "outputs": [],
      "source": [
        "## Imports\n",
        "\n",
        "%%time\n",
        "\n",
        "# Installing select libraries\n",
        "!pip install -q lightgbm==4.3.0 --force-reinstall\n",
        "!pip install --force-reinstall scikit-learn --no-index --find-links=file:///kaggle/input/scikit-learn-1-4-0/\n",
        "\n",
        "# General library imports\n",
        "from gc import collect\n",
        "from warnings import filterwarnings\n",
        "filterwarnings('ignore')\n",
        "from IPython.display import display_html, clear_output\n",
        "clear_output()\n",
        "\n",
        "import xgboost as xgb\n",
        "import lightgbm as lgb\n",
        "import catboost as cb\n",
        "import sklearn as sk\n",
        "import pandas as pd\n",
        "print(f\"---> XGBoost = {xgb.__version__} | LightGBM = {lgb.__version__} | Catboost = {cb.__version__}\")\n",
        "print(f\"---> Sklearn = {sk.__version__}| Pandas = {pd.__version__}\\n\\n\")\n",
        "collect()\n",
        "\n",
        "# Data manipulation and visualization\n",
        "from copy import deepcopy\n",
        "import numpy as np\n",
        "import re\n",
        "from scipy.stats import mode, kstest, normaltest, shapiro, anderson, jarque_bera\n",
        "from collections import Counter\n",
        "from itertools import product\n",
        "from colorama import Fore, Style, init\n",
        "init(autoreset=True)\n",
        "import joblib\n",
        "import os\n",
        "\n",
        "from tqdm.notebook import tqdm\n",
        "import seaborn as sns\n",
        "import matplotlib.pyplot as plt\n",
        "from matplotlib.colors import ListedColormap as LCM\n",
        "%matplotlib inline\n",
        "\n",
        "from pprint import pprint\n",
        "from functools import partial\n",
        "\n",
        "# Model and pipeline specifics\n",
        "from category_encoders import OrdinalEncoder, OneHotEncoder\n",
        "from sklearn.preprocessing import RobustScaler, MinMaxScaler, StandardScaler, FunctionTransformer as FT, PowerTransformer\n",
        "from sklearn.impute import SimpleImputer as SI\n",
        "from sklearn.model_selection import RepeatedStratifiedKFold as RSKF, StratifiedKFold as SKF, StratifiedGroupKFold as SGKF, KFold, RepeatedKFold as RKF, cross_val_score, cross_val_predict\n",
        "from sklearn.inspection import permutation_importance\n",
        "from sklearn.feature_selection import mutual_info_classif, RFE\n",
        "from sklearn.pipeline import Pipeline, make_pipeline\n",
        "from sklearn.base import BaseEstimator, TransformerMixin\n",
        "from sklearn.compose import ColumnTransformer\n",
        "\n",
        "# ML Model training\n",
        "from sklearn.metrics import accuracy_score, roc_auc_score, make_scorer\n",
        "from xgboost import DMatrix, XGBClassifier as XGBC\n",
        "from lightgbm import log_evaluation, early_stopping, LGBMClassifier as LGBMC\n",
        "from catboost import CatBoostClassifier as CBC, Pool\n",
        "from sklearn.ensemble import HistGradientBoostingClassifier as HGBC, RandomForestClassifier as RFC\n",
        "\n",
        "# Ensemble and tuning\n",
        "import optuna\n",
        "from optuna import Trial, trial, create_study\n",
        "from optuna.pruners import HyperbandPruner\n",
        "from optuna.samplers import TPESampler, CmaEsSampler\n",
        "optuna.logging.set_verbosity = optuna.logging.ERROR"
      ]
    },
    {
      "cell_type": "code",
      "source": [
        "# Setting rc parameters in seaborn for plots and graphs\n",
        "sns.set({\"axes.facecolor\"       : \"#ffffff\",\n",
        "         \"figure.facecolor\"     : \"#ffffff\",\n",
        "         \"axes.edgecolor\"       : \"#000000\",\n",
        "         \"grid.color\"           : \"#ffffff\",\n",
        "         \"font.family\"          : ['Cambria'],\n",
        "         \"axes.labelcolor\"      : \"#000000\",\n",
        "         \"xtick.color\"          : \"#000000\",\n",
        "         \"ytick.color\"          : \"#000000\",\n",
        "         \"grid.linewidth\"       : 0.75,\n",
        "         \"grid.linestyle\"       : \"--\",\n",
        "         \"axes.titlecolor\"      : '#0099e6',\n",
        "         'axes.titlesize'       : 8.5,\n",
        "         'axes.labelweight'     : \"bold\",\n",
        "         'legend.fontsize'      : 7.0,\n",
        "         'legend.title_fontsize': 7.0,\n",
        "         'font.size'            : 7.5,\n",
        "         'xtick.labelsize'      : 7.5,\n",
        "         'ytick.labelsize'      : 7.5,\n",
        "        })\n"
      ],
      "metadata": {
        "id": "717I23tvsfrg"
      },
      "execution_count": null,
      "outputs": []
    },
    {
      "cell_type": "code",
      "source": [
        "# Color printing\n",
        "def PrintColor(text:str, color = Fore.BLUE, style = Style.BRIGHT):\n",
        "    \"Prints color outputs using colorama using a text F-string\"\n",
        "    print(style + color + text + Style.RESET_ALL)\n",
        "\n",
        "# Making sklearn pipeline outputs as dataframe\n",
        "from sklearn import set_config\n",
        "set_config(transform_output = \"pandas\")\n",
        "pd.set_option('display.max_columns', 50)\n",
        "pd.set_option('display.max_rows', 50)\n",
        "\n",
        "print()\n",
        "collect()\n"
      ],
      "metadata": {
        "id": "Q31jp2cqsruw"
      },
      "execution_count": null,
      "outputs": []
    },
    {
      "cell_type": "code",
      "source": [
        "# Function to load and preprocess data\n",
        "def load_and_preprocess_data(train_path, test_path):\n",
        "    # Load datasets\n",
        "    train_data = pd.read_csv(train_path)\n",
        "    test_data = pd.read_csv(test_path)\n",
        "\n",
        "    # Preprocessing steps (e.g., handling missing values, encoding categorical variables)\n",
        "    # Example: train_data = train_data.fillna(train_data.mean())\n",
        "    # Example: test_data = test_data.fillna(test_data.mean())\n",
        "\n",
        "    return train_data, test_data\n",
        "\n",
        "# Function to split data into features and target\n",
        "def split_data(data, target_column):\n",
        "    X = data.drop(target_column, axis=1)\n",
        "    y = data[target_column]\n",
        "    return X, y\n",
        "\n",
        "# Function to apply PCA\n",
        "def apply_pca(X, n_components):\n",
        "    pca = PCA(n_components=n_components)\n",
        "    X_pca = pca.fit_transform(X)\n",
        "    return X_pca\n",
        "\n",
        "# Function to train and evaluate a model\n",
        "def train_and_evaluate_model(model, X_train, y_train, X_test, y_test):\n",
        "    model.fit(X_train, y_train)\n",
        "    y_pred = model.predict(X_test)\n",
        "    accuracy = accuracy_score(y_test, y_pred)\n",
        "    return accuracy\n",
        "\n",
        "# Function to plot ROC curve\n",
        "def plot_roc_curve(y_test, y_pred_proba):\n",
        "    fpr, tpr, _ = roc_curve(y_test, y_pred_proba[:, 1])\n",
        "    roc_auc = auc(fpr, tpr)\n",
        "    plt.figure()\n",
        "    plt.plot(fpr, tpr, color='darkorange', lw=2, label='ROC curve (area = %0.2f)' % roc_auc)\n",
        "    plt.plot([0, 1], [0, 1], color='navy', lw=2, linestyle='--')\n",
        "    plt.xlim([0.0, 1.0])\n",
        "    plt.ylim([0.0, 1.05])\n",
        "    plt.xlabel('False Positive Rate')\n",
        "    plt.ylabel('True Positive Rate')\n",
        "    plt.title('Receiver Operating Characteristic')\n",
        "    plt.legend(loc=\"lower right\")\n",
        "    plt.show()\n",
        "\n",
        "# Example usage\n",
        "# train_data, test_data = load_and_preprocess_data('path/to/train_data.csv', 'path/to/test_data.csv')\n",
        "# X_train, y_train = split_data(train_data, 'target_column')\n",
        "# X_test, y_test = split_data(test_data, 'target_column')\n",
        "# X_train_pca = apply_pca(X_train, n_components=10)\n",
        "# X_test_pca = apply_pca(X_test, n_components=10)\n",
        "# model = RandomForestClassifier()\n",
        "# accuracy = train_and_evaluate_model(model, X_train_pca, y_train, X_test_pca, y_test)\n",
        "# print(f\"Accuracy: {accuracy}\")\n",
        "# y_pred_proba = model.predict_proba(X_test_pca)\n",
        "# plot_roc_curve(y_test, y_pred_proba)"
      ],
      "metadata": {
        "id": "ldRoBUwVszSy"
      },
      "execution_count": null,
      "outputs": []
    }
  ]
}